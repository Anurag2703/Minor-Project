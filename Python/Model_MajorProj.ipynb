{
 "cells": [
  {
   "cell_type": "code",
   "execution_count": 4,
   "id": "0c46c433-aaf4-4df2-9de7-cbc1a61d7b74",
   "metadata": {},
   "outputs": [
    {
     "name": "stderr",
     "output_type": "stream",
     "text": [
      "[nltk_data] Downloading package vader_lexicon to C:\\Users\\Gyanendra\n",
      "[nltk_data]     Hati\\AppData\\Roaming\\nltk_data...\n",
      "[nltk_data]   Package vader_lexicon is already up-to-date!\n"
     ]
    },
    {
     "name": "stdin",
     "output_type": "stream",
     "text": [
      "Please enter your mood or feelings:  i am feeling depressed today, i need motivation\n"
     ]
    },
    {
     "name": "stdout",
     "output_type": "stream",
     "text": [
      "\n",
      "Suggested Verse Details:\n",
      "ID: BG1.12\n",
      "Chapter: 1\n",
      "Verse: 12\n",
      "Shloka: तस्य सञ्जनयन्हर्षं कुरुवृद्धः पितामहः |\n",
      "सिंहनादं विनद्योच्चैः शङ्खं दध्मौ प्रतापवान् ||१-१२||\n",
      "Transliteration: tasya sañjanayanharṣaṃ kuruvṛddhaḥ pitāmahaḥ .\n",
      "siṃhanādaṃ vinadyoccaiḥ śaṅkhaṃ dadhmau pratāpavān ||1-12||\n",
      "Hindi Meaning: ।।1.12।।उस समय कौरवों में वृद्ध, प्रतापी पितामह भीष्म ने उस (दुर्योधन) के हृदय में हर्ष उत्पन्न करते हुये उच्च स्वर में गरज कर शंखध्वनि की।\n",
      "English Meaning: 1.12. His glorious grandsire (Bhishma), the oldest of the Kauravas,\n",
      "in order to cheer Duryodhana, now roared like a lion, and blew his conch.\n",
      "Word Meaning: 1.12 तस्य his (Duryodhanas)? संजयन् causing? हर्षम् joy? कुरुवृद्धः oldest of the Kurus? पितामहः grandfather? सिंहनादम् lions roar? विनद्य having sounded? उच्चैः loudly? शङ्खम् conch? दध्मौ blew? प्रतापवान् the glorious.No Commentary.\n"
     ]
    }
   ],
   "source": [
    "import pandas as pd\n",
    "from nltk.sentiment import SentimentIntensityAnalyzer\n",
    "import nltk\n",
    "import random\n",
    "\n",
    "# Load the dataset\n",
    "file_path = 'Bhagwad_Gita.xlsx'\n",
    "df = pd.read_excel(file_path)\n",
    "\n",
    "# Initialize the sentiment analyzer\n",
    "nltk.download('vader_lexicon')\n",
    "sia = SentimentIntensityAnalyzer()\n",
    "\n",
    "def analyze_sentiment(text):\n",
    "    sentiment = sia.polarity_scores(text)\n",
    "    if sentiment['compound'] >= 0.05:\n",
    "        return 'positive'\n",
    "    elif sentiment['compound'] <= -0.05:\n",
    "        return 'negative'\n",
    "    else:\n",
    "        return 'neutral'\n",
    "\n",
    "def suggest_verse(sentiment, df):\n",
    "    if sentiment == 'positive':\n",
    "        # Suggest a verse that might elevate mood\n",
    "        happy_verses = df[df['EngMeaning'].str.contains('joy|happy|elevate', case=False, na=False)]\n",
    "        if not happy_verses.empty:\n",
    "            verse = happy_verses.sample().iloc[0]\n",
    "        else:\n",
    "            verse = df.sample().iloc[0]  # Fallback to random verse\n",
    "    else:\n",
    "        # Suggest any verse randomly\n",
    "        verse = df.sample().iloc[0]\n",
    "    \n",
    "    return verse\n",
    "\n",
    "def main():\n",
    "    # Get user input for mood\n",
    "    user_input = input(\"Please enter your mood or feelings: \")\n",
    "    \n",
    "    # Analyze sentiment of the user's input\n",
    "    sentiment = analyze_sentiment(user_input)\n",
    "    \n",
    "    # Suggest a verse based on the sentiment\n",
    "    verse = suggest_verse(sentiment, df)\n",
    "    \n",
    "    # Display all columns for the selected verse\n",
    "    print(\"\\nSuggested Verse Details:\")\n",
    "    print(f\"ID: {verse['ID']}\")\n",
    "    print(f\"Chapter: {verse['Chapter']}\")\n",
    "    print(f\"Verse: {verse['Verse']}\")\n",
    "    print(f\"Shloka: {verse['Shloka']}\")\n",
    "    print(f\"Transliteration: {verse['Transliteration']}\")\n",
    "    print(f\"Hindi Meaning: {verse['HinMeaning']}\")\n",
    "    print(f\"English Meaning: {verse['EngMeaning']}\")\n",
    "    print(f\"Word Meaning: {verse['WordMeaning']}\")\n",
    "\n",
    "# Run the main function\n",
    "if __name__ == \"__main__\":\n",
    "    main()\n"
   ]
  },
  {
   "cell_type": "code",
   "execution_count": null,
   "id": "3de2e47f-93e3-44e7-b869-4203a0a54a22",
   "metadata": {},
   "outputs": [],
   "source": []
  }
 ],
 "metadata": {
  "kernelspec": {
   "display_name": "Python 3 (ipykernel)",
   "language": "python",
   "name": "python3"
  },
  "language_info": {
   "codemirror_mode": {
    "name": "ipython",
    "version": 3
   },
   "file_extension": ".py",
   "mimetype": "text/x-python",
   "name": "python",
   "nbconvert_exporter": "python",
   "pygments_lexer": "ipython3",
   "version": "3.11.7"
  }
 },
 "nbformat": 4,
 "nbformat_minor": 5
}
